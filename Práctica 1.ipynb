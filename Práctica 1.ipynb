{
 "cells": [
  {
   "cell_type": "code",
   "execution_count": 10,
   "metadata": {},
   "outputs": [
    {
     "name": "stdout",
     "output_type": "stream",
     "text": [
      "Lista original:  [1, 3, 9, 0, 10, 13, 3, 43, 21, 1, 19, 87, 32, 5, 43, 56, 6, 1, 7, 91, 11, 9, 4, 22, 15, 24, 23, 6]\n",
      "\n",
      "Lista ordenada (por Bubble Sort):  [0, 1, 1, 1, 3, 3, 4, 5, 6, 6, 7, 9, 9, 10, 11, 13, 15, 19, 21, 22, 23, 24, 32, 43, 43, 56, 87, 91]\n",
      "\n",
      "Número de pasadas de la función bubbleSort2 es:  19\n"
     ]
    }
   ],
   "source": [
    "#Función BubbleSort Mejorada\n",
    "def bubbleSort2(A):\n",
    "    bandera = True\n",
    "    pasada = 0\n",
    "    while pasada < len(A)-1 and bandera:\n",
    "        bandera = False\n",
    "        for j in range(len(A)-1):\n",
    "            if(A[j] > A[j+1]):\n",
    "                bandera = True\n",
    "                temp = A[j]\n",
    "                A[j] = A[j+1]\n",
    "                A[j+1] = temp\n",
    "        pasada = pasada+1\n",
    "    return pasada\n",
    "\n",
    "def main():\n",
    "    A = [1, 3, 9, 0, 10, 13, 3, 43, 21, 1, 19, 87, 32, 5, 43, 56, 6, 1, 7, 91, 11, 9, 4, 22, (7+8), 24, 23, (1+5)]\n",
    "    print(\"Lista original: \", A)\n",
    "    x = bubbleSort2(A)\n",
    "    print(\"\\nLista ordenada (por Bubble Sort): \", A) \n",
    "    print(\"\\nNúmero de pasadas de la función bubbleSort2 es: \",x)\n",
    "    \n",
    "main();"
   ]
  },
  {
   "cell_type": "code",
   "execution_count": 9,
   "metadata": {},
   "outputs": [
    {
     "name": "stdout",
     "output_type": "stream",
     "text": [
      "Lista original:  [1, 3, 9, 0, 10, 13, 3, 43, 21, 1, 19, 87, 32, 5, 43, 56, 6, 1, 7, 91, 11, 9, 4, 22, 15, 24, 23, 6]\n",
      "\n",
      "Lista ordenada (por Bubble Sort):  [0, 1, 1, 1, 3, 3, 4, 5, 6, 6, 7, 9, 9, 10, 11, 13, 15, 19, 21, 22, 23, 24, 32, 43, 43, 56, 87, 91]\n",
      "\n",
      "Número de pasadas de la función bubbleSort es:  144\n"
     ]
    }
   ],
   "source": [
    "#Función BubleSort\n",
    "def bubbleSort(A):\n",
    "    x=0\n",
    "    for i in range(1,len(A)):\n",
    "        for j in range(len(A)-1):\n",
    "            if A[j]>A[j+1]:\n",
    "                temp = A[j]\n",
    "                A[j] = A[j+1]\n",
    "                A[j+1] = temp\n",
    "                x=x+1\n",
    "    return x\n",
    "\n",
    "def main():\n",
    "    A = [1, 3, 9, 0, 10, 13, 3, 43, 21, 1, 19, 87, 32, 5, 43, 56, 6, 1, 7, 91, 11, 9, 4, 22, (7+8), 24, 23, (1+5)]\n",
    "    print(\"Lista original: \", A)\n",
    "    x = bubbleSort(A)\n",
    "    print(\"\\nLista ordenada (por Bubble Sort): \", A) \n",
    "    print(\"\\nNúmero de pasadas de la función bubbleSort es: \",x)\n",
    "    \n",
    "main();"
   ]
  },
  {
   "cell_type": "code",
   "execution_count": 12,
   "metadata": {},
   "outputs": [
    {
     "name": "stdout",
     "output_type": "stream",
     "text": [
      "Lista original:  [1, 3, 9, 0, 10, 13, 3, 43, 21, 1, 19, 87, 32, 5, 43, 56, 6, 1, 7, 91, 11, 9, 4, 22, 15, 24, 23, 6]\n",
      "\n",
      "Lista ordenada en orden inverso(por Bubble Sort):  [91, 87, 56, 43, 43, 32, 24, 23, 22, 21, 19, 15, 13, 11, 10, 9, 9, 7, 6, 6, 5, 4, 3, 3, 1, 1, 1, 0]\n"
     ]
    }
   ],
   "source": [
    "#Función BubbleSort (en orden inverso)\n",
    "def bubbleSort3(A):\n",
    "    bandera = True\n",
    "    pasada = 0\n",
    "    while pasada < len(A)-1 and bandera:\n",
    "        bandera = False\n",
    "        for j in range(len(A)-1):\n",
    "            if(A[j] < A[j+1]):\n",
    "                bandera = True\n",
    "                temp = A[j]\n",
    "                A[j] = A[j+1]\n",
    "                A[j+1] = temp\n",
    "        pasada = pasada+1\n",
    "\n",
    "def main():\n",
    "    A = [1, 3, 9, 0, 10, 13, 3, 43, 21, 1, 19, 87, 32, 5, 43, 56, 6, 1, 7, 91, 11, 9, 4, 22, (7+8), 24, 23, (1+5)]\n",
    "    print(\"Lista original: \", A)\n",
    "    bubbleSort3(A)\n",
    "    print(\"\\nLista ordenada en orden inverso(por Bubble Sort): \", A)\n",
    "    \n",
    "main();"
   ]
  },
  {
   "cell_type": "code",
   "execution_count": 27,
   "metadata": {},
   "outputs": [
    {
     "name": "stdout",
     "output_type": "stream",
     "text": [
      "Lista original:  [1, 3, 9, 0, 10, 13, 3, 43, 21, 1, 19, 87, 32, 5, 43, 56, 6, 1, 7, 91, 11, 9, 4, 22, 15, 24, 23, 6]\n",
      "\n",
      "Lista ordenada (por Merge Sort):  [1, 0, 3, 3, 9, 10, 13, 43, 21, 1, 19, 87, 32, 5, 43, 56, 6, 1, 7, 91, 11, 9, 4, 22, 15, 24, 23, 6]\n"
     ]
    }
   ],
   "source": [
    "#MergeSort\n",
    "def CrearSubArreglo (A, indIzq, indDer):\n",
    "    return A[indIzq:indDer+1]\n",
    "\n",
    "def Merge(A,p,q,r):\n",
    "    Izq = CrearSubArreglo(A, p, q)\n",
    "    Der = CrearSubArreglo(A,q+1, r)\n",
    "    i = 0\n",
    "    j = 0\n",
    "    for k in range(p,r+1):\n",
    "        if(j >= len(Der) or (i < len(Izq) and Izq[i] < Der[j])):\n",
    "            A[k] = Izq[i]\n",
    "            i = i + 1\n",
    "        else:\n",
    "            A[k] = Der[j]\n",
    "            j = j + 1\n",
    "\n",
    "def MergeSort(A,p,r):\n",
    "    if r - p > 0:\n",
    "        q = int((p+r)/2)\n",
    "        MergeSort(A,p,q)\n",
    "        MergeSort(A,q+1,r)\n",
    "        Merge(A,p,q,r)\n",
    "        \n",
    "def main():\n",
    "    A = [1, 3, 9, 0, 10, 13, 3, 43, 21, 1, 19, 87, 32, 5, 43, 56, 6, 1, 7, 91, 11, 9, 4, 22, (7+8), 24, 23, (1+5)]\n",
    "    print(\"Lista original: \", A)\n",
    "    p = A[0]\n",
    "    x = len(A)-1\n",
    "    r = A[x]\n",
    "    MergeSort(A,p,r)\n",
    "    print(\"\\nLista ordenada (por Merge Sort): \",A)\n",
    "    \n",
    "main();"
   ]
  },
  {
   "cell_type": "code",
   "execution_count": null,
   "metadata": {
    "collapsed": true
   },
   "outputs": [],
   "source": []
  }
 ],
 "metadata": {
  "kernelspec": {
   "display_name": "Python 3",
   "language": "python",
   "name": "python3"
  },
  "language_info": {
   "codemirror_mode": {
    "name": "ipython",
    "version": 3
   },
   "file_extension": ".py",
   "mimetype": "text/x-python",
   "name": "python",
   "nbconvert_exporter": "python",
   "pygments_lexer": "ipython3",
   "version": "3.6.1"
  }
 },
 "nbformat": 4,
 "nbformat_minor": 2
}
