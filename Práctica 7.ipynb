{
 "cells": [
  {
   "cell_type": "code",
   "execution_count": 2,
   "metadata": {},
   "outputs": [
    {
     "name": "stdout",
     "output_type": "stream",
     "text": [
      "Ingrese cuantos números aleatorios desea obtener: 9\n",
      "Archivos generados\n"
     ]
    }
   ],
   "source": [
    "import random\n",
    "from threading import Thread\n",
    "\n",
    "#Ordenamiento\n",
    "def bubbleSort(A):\n",
    "    bandera = True\n",
    "    pasada = 0\n",
    "    while pasada < len(A)-1 and bandera:\n",
    "        bandera = False\n",
    "        for j in range(len(A)-1):\n",
    "            if(A[j] > A[j+1]):\n",
    "                bandera = True\n",
    "                temp = A[j]\n",
    "                A[j] = A[j+1]\n",
    "                A[j+1] = temp\n",
    "        pasada = pasada+1\n",
    "\n",
    "#Escritura números aleatorios\n",
    "def escritura(a, n):\n",
    "    aleatorios = [random.randint(0,1000) for _ in range(n)]\n",
    "    for i in range(len(aleatorios)):\n",
    "        a.write(str(aleatorios[i])+\"\\n\")\n",
    "    a.close()\n",
    "    \n",
    "#Lectura-escritura\n",
    "def lectura():\n",
    "    archivo1=open('datos.txt', 'r')\n",
    "    numeros=[]\n",
    "    linea = archivo1.readline()\n",
    "    while linea:\n",
    "        numeros.append(linea)\n",
    "        linea = archivo1.readline()\n",
    "    archivo1.close()\n",
    "    bubbleSort(numeros)\n",
    "    archivo2=open('datos_ordenados.txt', 'w')\n",
    "    for i in range(len(numeros)):\n",
    "        archivo2.write(str(numeros[i]))\n",
    "    archivo2.close()\n",
    "    \n",
    "def main():\n",
    "    archivo1=open('datos.txt', 'w+')\n",
    "    n=int(input(\"Ingrese cuantos números aleatorios desea obtener: \"))\n",
    "    hilo1 = Thread(target=escritura, args=(archivo1, n, ))\n",
    "    hilo1.start()\n",
    "    hilo2 = Thread(target=lectura)\n",
    "    hilo2.start()\n",
    "    print(\"Archivos generados\")\n",
    "    \n",
    "main()"
   ]
  },
  {
   "cell_type": "code",
   "execution_count": null,
   "metadata": {},
   "outputs": [],
   "source": []
  }
 ],
 "metadata": {
  "kernelspec": {
   "display_name": "Python 3",
   "language": "python",
   "name": "python3"
  },
  "language_info": {
   "codemirror_mode": {
    "name": "ipython",
    "version": 3
   },
   "file_extension": ".py",
   "mimetype": "text/x-python",
   "name": "python",
   "nbconvert_exporter": "python",
   "pygments_lexer": "ipython3",
   "version": "3.6.5"
  }
 },
 "nbformat": 4,
 "nbformat_minor": 2
}
